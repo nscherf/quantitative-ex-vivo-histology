{
 "cells": [
  {
   "cell_type": "code",
   "execution_count": 1,
   "metadata": {
    "collapsed": true
   },
   "outputs": [],
   "source": [
    "import os\n",
    "import pandas as pd"
   ]
  },
  {
   "cell_type": "code",
   "execution_count": 27,
   "metadata": {
    "collapsed": true
   },
   "outputs": [],
   "source": [
    "results_dir=\"../results/orientation-myelin/tiled_orientation_analysis/\"\n",
    "fnames = os.listdir(results_dir)"
   ]
  },
  {
   "cell_type": "code",
   "execution_count": 23,
   "metadata": {},
   "outputs": [],
   "source": [
    "def coordinates_from_name(fname):\n",
    "    x, y = fname.replace('.','-').split('-')[-3:-1]\n",
    "    return [int(x),int(y)]    "
   ]
  },
  {
   "cell_type": "code",
   "execution_count": 115,
   "metadata": {},
   "outputs": [],
   "source": [
    "header=[str(i) for i in range(-90,90,2)]\n",
    "##header.insert(0,'voxel_x')\n",
    "##header.insert(1,'voxel_y')\n",
    "##header.insert(2,'voxel_dimension')\n",
    "##header.insert(3,'voxel_x_physical')\n",
    "##header.insert(4,'voxel_y_physical')"
   ]
  },
  {
   "cell_type": "code",
   "execution_count": 132,
   "metadata": {},
   "outputs": [],
   "source": [
    "def process_csv(fname):\n",
    "    df=pd.read_csv(results_dir+fname, names = header)\n",
    "    x, y = fname.replace('.','-').split('-')[-3:-1]\n",
    "    x = int(x)\n",
    "    y = int(y)\n",
    "    df.insert(0,'voxel_x',x)\n",
    "    df.insert(1,'voxel_y',y)\n",
    "    df.insert(2,'voxel-dimension',200)\n",
    "    df.insert(3,'voxel_x_physical',200*x)\n",
    "    df.insert(4,'voxel_y_physical',200*y)\n",
    "    return df"
   ]
  },
  {
   "cell_type": "code",
   "execution_count": 141,
   "metadata": {},
   "outputs": [],
   "source": [
    "df1=process_csv(fnames[0])\n",
    "df=df1.append([process_csv(f) for f in fnames[1:]])\n",
    "df.sort_values('voxel_x')\n",
    "df.to_csv('../results/orientation-myelin/orientation_histograms.csv')"
   ]
  },
  {
   "cell_type": "code",
   "execution_count": null,
   "metadata": {
    "collapsed": true
   },
   "outputs": [],
   "source": []
  }
 ],
 "metadata": {
  "kernelspec": {
   "display_name": "Python 3",
   "language": "python",
   "name": "python3"
  },
  "language_info": {
   "codemirror_mode": {
    "name": "ipython",
    "version": 3
   },
   "file_extension": ".py",
   "mimetype": "text/x-python",
   "name": "python",
   "nbconvert_exporter": "python",
   "pygments_lexer": "ipython3",
   "version": "3.6.1"
  }
 },
 "nbformat": 4,
 "nbformat_minor": 2
}
